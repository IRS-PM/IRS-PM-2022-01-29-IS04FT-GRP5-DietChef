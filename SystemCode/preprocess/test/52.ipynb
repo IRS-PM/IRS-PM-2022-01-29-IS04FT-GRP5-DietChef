{
 "cells": [
  {
   "cell_type": "markdown",
   "metadata": {},
   "source": [
    "Import libraries"
   ]
  },
  {
   "cell_type": "code",
   "execution_count": null,
   "metadata": {},
   "outputs": [],
   "source": [
    "# !pip install fiftyone\n",
    "# !pip install umap-learn\n",
    "# !pip install ipywidgets>=7.5\n",
    "# !pip install opencv-python-headless==4.5.4.60 fiftyone"
   ]
  },
  {
   "cell_type": "code",
   "execution_count": 3,
   "metadata": {},
   "outputs": [],
   "source": [
    "import torch\n",
    "import matplotlib.pyplot as plt\n",
    "import matplotlib.image as mpimg\n",
    "import glob\n",
    "import os\n",
    "\n",
    "%matplotlib inline\n",
    "import utils\n",
    "import wandb\n",
    "\n",
    "from IPython.display import Image,Video, clear_output  # to display images\n",
    "clear_output()"
   ]
  },
  {
   "cell_type": "code",
   "execution_count": 5,
   "metadata": {},
   "outputs": [],
   "source": [
    "# Configure wandb for monitoring and logging\n",
    "# wandb.init()"
   ]
  },
  {
   "cell_type": "code",
   "execution_count": 6,
   "metadata": {},
   "outputs": [
    {
     "name": "stderr",
     "output_type": "stream",
     "text": [
      "YOLOv5 🚀 v6.1-164-g177da7f torch 1.11.0 CPU\n"
     ]
    },
    {
     "name": "stdout",
     "output_type": "stream",
     "text": [
      "Setup complete ✅ (10 CPUs, 16.0 GB RAM, 229.5/926.4 GB disk)\n"
     ]
    }
   ],
   "source": [
    "display = utils.notebook_init()  # checks"
   ]
  },
  {
   "cell_type": "code",
   "execution_count": 7,
   "metadata": {},
   "outputs": [
    {
     "name": "stdout",
     "output_type": "stream",
     "text": [
      "/Users/ethankuch/my_project\n"
     ]
    }
   ],
   "source": [
    "#git clone repo for first time\n",
    "# !git clone https://github.com/ultralytics/yolov5.git\n",
    "#git pull and update repo if prompted\n",
    "# !git pull https://github.com/ultralytics/yolov5.git\n",
    "#change directory to where yolov5 is located\n",
    "%cd /Users/ethankuch/my_project"
   ]
  },
  {
   "cell_type": "markdown",
   "metadata": {},
   "source": [
    "Extract custom ingredient object class from recipes"
   ]
  },
  {
   "cell_type": "code",
   "execution_count": 8,
   "metadata": {},
   "outputs": [],
   "source": [
    "import openimages"
   ]
  },
  {
   "cell_type": "code",
   "execution_count": 9,
   "metadata": {},
   "outputs": [
    {
     "name": "stdout",
     "output_type": "stream",
     "text": [
      "Number of Ingredient in List:  430\n",
      "List of Ingredient:  ['butter', 'chicken', 'onions', 'carrot', 'celery', 'garlic', 'flour', 'barbecue sauce', 'potatoes', 'pepper', 'cream', 'blue cheese', 'mayonnaise', 'cheddar cheese', 'bread', 'salt', 'lemon juice', 'olive oil', 'avocado', 'honey', 'kale', 'berries', 'fennel', 'almonds', 'beef', 'mixed vegetables', 'broth', 'ground beef', 'oregano', 'basil', 'tomatoes', 'wine', 'zzseasoning', 'milk', 'parmesan cheese', 'roast beef', 'thyme', 'rosemary', 'cauliflower', 'parsley', 'half and half', 'sour cream', 'bacon', 'trail mix', 'cheese', 'apple cider', 'dumplings', 'cornmeal', 'protein powder', 'quinoa', 'water', 'zucchini', 'black beans', 'kidney beans', 'chili', 'noodles', 'ground chicken', 'oil', 'green beans', 'cabbage', 'edamame', 'cucumbers', 'soy sauce', 'vinegar', 'cilantro', 'seeds', 'ginger', 'roasted potatoes', 'lime', 'brown sugar', 'coconut milk', 'tofu', 'broccoli', 'corn on the cob', 'vegetable oil', 'corn', 'lemon', 'stews', 'sugar', 'turnips', 'mashed potatoes', 'cream cheese', 'chickpeas', 'tahini', 'pita bread', 'ice cream soda', 'eggs', 'orange', 'walnuts', 'pineapple', 'squash', 'jalapenos', 'beer', 'ketchup', 'mustard', 'lettuce', 'mozzarella cheese', 'buns', 'pickles', 'turkey', 'goat cheese', 'scrambled eggs', 'crackers', 'ground turkey', 'brown rice', 'shallots', 'asparagus', 'mushroom', 'spaghetti', 'almond butter', 'cherry tomatoes', 'macaroni', 'rice', 'salmon', 'skim milk', 'sausage', 'nut cheese', 'raisins', 'lentils', 'spinach (raw)', 'cashews', 'chicken soup', 'american cheese', 'biscuits', 'ham', 'peanut butter', 'red potatoes', 'rice noodles', 'veggie burgers', 'bean sprouts', 'snow peas', 'peas', 'chive', 'quesadillas', 'provolone cheese', 'sweet potato', 'agave nectar', 'leeks', 'vinaigrette', 'garden salad', 'cottage cheese', 'olives', 'hard boiled eggs', 'sunflower seeds', 'caesar dressing', 'balsamic vinegar', 'arugula', 'swiss cheese', 'chicken breast', 'bread crumbs', 'egg yolks', 'smoked salmon', 'feta cheese', 'pasta', 'pine nuts', 'artichokes', 'pies', 'coconuts', 'grape juice', 'wraps', 'tortilla', 'peanuts', 'alfalfa', 'shrimp', 'soy milk', 'yogurt', 'spinach (cooked)', 'pomegranate', 'greek yogurt', 'miso soup', 'capers', 'champagne', 'pizza sauce', 'salsa', 'cocoa', 'chocolate', 'syrup', 'tacos', 'tortilla chips', 'peaches', 'maple syrup', 'bell peppers', 'hot dogs', 'pork chops', 'popcorn', 'granola bars', 'corn chips', 'seafood', 'pecans', 'pesto', 'pumpkin seeds', 'cherry pie', 'banana', 'gelatin', 'corn starch', 'mexican cheese', 'tilapia', 'tomatillo', 'tortellini', 'mangos', 'cranberries', 'orzo', 'radishes', 'egg whites', 'pepperoni', 'ice cream cones', 'watermelon', 'rolls', 'refried beans', 'tomato soup', 'italian dressing', 'pot pies', 'lasagna', 'empanadas', 'pizza dough', 'burgers', 'colby cheese', 'chicken thighs', 'hominy', 'relish', 'guacamole', 'spreads', 'apple', 'plums', 'grapes', 'tuna', 'potato chips', 'pizza', 'hash browns', 'couscous', 'garlic bread', 'rye bread', 'steak', 'coffee', 'turkey breast', 'oats', 'marshmallows', 'baby carrots', 'parsnips', 'fish', 'haddock', 'strawberries', 'lamb', 'pumpkins', 'lo mein', 'buttermilk', 'muffins', 'cookies', 'raisin bran', 'pie crust', 'brussels sprouts', 'pork', 'mussels', 'paella', 'squid', 'orange juice', 'jicama', 'sourdough bread', 'stout beer', 'vodka', 'gouda cheese', 'root beer', 'dark chocolate', 'risotto', 'fruit punch', 'mackerel', 'horseradish', 'beets', 'flatbread', 'nuts', 'chips', 'pears', 'eel', 'ravioli', 'chard', 'teriyaki sauce', 'veal', 'whole wheat bread', 'chestnuts', 'seaweed', 'salami', 'gravy', 'clams', 'blueberries', 'margarine', 'focaccia', 'tostadas', 'sorbet', 'cornbread', 'ground pork', 'multigrain bread', 'kimchi', 'sauerkraut', 'corned beef', 'ranch dressing', 'pinto beans', 'collards', 'macadamia nuts', 'gorgonzola cheese', 'chutney', 'almond milk', 'roast turkey', 'romano cheese', 'celery root', 'breadsticks', 'sherbet', 'croutons', 'water chestnuts', 'cod', 'spring rolls', 'apricots', 'meatballs', 'india pale ale beer', 'scallops', 'brisket', 'dates', 'rum', 'frozen yogurt', 'cantaloupe', 'french toast', 'eggplant', 'ice pop', 'oysters', 'chicken drumsticks', 'tempeh', 'polenta', 'scones', 'mixed greens', 'barley', 'bulgur', 'croissants', 'apple juice', 'grits', 'cherries', 'applesauce', 'crispbread', 'nectar', 'nectarines', 'peach', 'granola', 'sushi', 'puddings', 'cupcakes', 'carrot cake', 'blackberries', 'raspberries', 'pancakes', 'jams', 'cranberry juice', 'custard', 'kiwi', 'frostings', 'figs', 'soft serve ice creams', 'pistachios', 'lemonade', 'taco shells', 'honeydew melons', 'tea', 'grapefruit juice', 'grapefruits', 'artic char', 'plate only', 'banana with peel', 'licorice', 'cheesecake', 'wheat beer', 'trout', 'wheat berry', 'salad dressing', 'fruit cocktail', 'papayas', 'halibut', 'cereal', 'brie cheese', 'millet', 'mahi mahi', 'pretzels', 'duck', 'jerky', 'anchovies', 'naan', 'ribs', 'stuffing', 'prunes', 'crab', 'cakes', 'coleslaw', 'fajitas', 'english muffins', 'grilled chicken', 'lobster', 'fried eggs', 'nachos', 'light beer', 'wafers', 'hamburgers', 'chocolate cake', 'sandwich cookies', 'gumbo', 'okra', 'energy drinks', 'lima beans', 'gnocchi', 'french fries', 'chicken wings', 'catfish', 'wheat bread', 'bok choy', 'meatloaf', 'fried rice', 'crawfish', 'raisin bread', 'greek salad', 'string cheese', 'hummus', 'bagels', 'latte', 'pasta salad', 'pasta sauce', 'chocolate chip cookies', 'poached eggs', 'cappuccino', 'ice creams', 'potato skins', 'fudge', 'lamb chops', 'havarti cheese', 'oatmeal', 'pepperoni pizza']\n"
     ]
    }
   ],
   "source": [
    "import pandas as pd\n",
    "\n",
    "file = \"/Users/ethankuch/my_project/ingredient.csv\"\n",
    "df =pd.read_csv(file)\n",
    "ingridentList = df[\"nutrition_key\"].unique().tolist()\n",
    "\n",
    "print(\"Number of Ingredient in List: \",len(ingridentList))\n",
    "print(\"List of Ingredient: \",ingridentList)"
   ]
  },
  {
   "cell_type": "code",
   "execution_count": 10,
   "metadata": {},
   "outputs": [
    {
     "name": "stdout",
     "output_type": "stream",
     "text": [
      "Number of ingredient classes avaliable on OpenImageV6:  65\n",
      "['Apple', 'Artichoke', 'Banana', 'Beer', 'Bell pepper', 'Bread', 'Broccoli', 'Cabbage', 'Cantaloupe', 'Carrot', 'Cheese', 'Chicken', 'Coat', 'Coconut', 'Coffee', 'Cookie', 'Crab', 'Cream', 'Croissant', 'Cucumber', 'Deer', 'Dice', 'Drum', 'Duck', 'Fish', 'Fork', 'French fries', 'Goat', 'Grapefruit', 'Guacamole', 'Hamburger', 'Hamburger', 'Hot dog', 'Ice cream', 'Lemon', 'Lobster', 'Maple', 'Milk', 'Muffin', 'Mushroom', 'Orange', 'Oyster', 'Pancake', 'Parrot', 'Pasta', 'Peach', 'Pineapple', 'Pizza', 'Plate', 'Platter', 'Pomegranate', 'Popcorn', 'Poster', 'Poster', 'Pretzel', 'Pumpkin', 'Seafood', 'Shrimp', 'Squid', 'Sushi', 'Turkey', 'Watermelon', 'Wheel', 'Wine', 'Zucchini']\n"
     ]
    }
   ],
   "source": [
    "import fiftyone as fo\n",
    "import fiftyone.zoo as foz\n",
    "from difflib import get_close_matches\n",
    "import numpy as np\n",
    "\n",
    "# List of approved labels in the fo dataset\n",
    "# fo_list=fo.utils.openimages.getclasses()\n",
    "fo_list=openimages.get_classes()\n",
    "avaliable_fo =list()\n",
    "i = 0 \n",
    "while i < len(ingridentList): \n",
    "\n",
    "  matches=get_close_matches(ingridentList[i],fo_list,n=2,cutoff=0.75)\n",
    "  \n",
    "  avaliable_fo.extend(matches)  \n",
    "  i += 1\n",
    "  avaliable_fo.sort()\n",
    "print(\"Number of ingredient classes avaliable on OpenImageV6: \",len(avaliable_fo))\n",
    "print(avaliable_fo)"
   ]
  },
  {
   "cell_type": "code",
   "execution_count": 11,
   "metadata": {},
   "outputs": [
    {
     "name": "stdout",
     "output_type": "stream",
     "text": [
      "Downloading split 'train' to '/Users/ethankuch/fiftyone/open-images-v6/train' if necessary\n",
      "Only found 987 (<3000) samples matching your requirements\n",
      "Necessary images already downloaded\n",
      "Existing download of split 'train' is sufficient\n",
      "Loading 'open-images-v6' split 'train'\n",
      " 100% |█████████████████| 987/987 [7.4s elapsed, 0s remaining, 125.1 samples/s]      \n",
      "Dataset 'df_train' created\n"
     ]
    }
   ],
   "source": [
    "# Loading matched Ingredient from recipe and OpenImagev6 database to train customized object detection\n",
    "dataset = foz.load_zoo_dataset(\n",
    "    \"open-images-v6\", \n",
    "    split=\"train\", \n",
    "    label_types=[\"detections\", \"classifications\"], \n",
    "    classes = avaliable_fo,\n",
    "    max_samples=3000,\n",
    "    seed=69,\n",
    "    shuffle=True,\n",
    "    dataset_name=\"df_train\",\n",
    ")"
   ]
  },
  {
   "cell_type": "code",
   "execution_count": 12,
   "metadata": {},
   "outputs": [
    {
     "name": "stdout",
     "output_type": "stream",
     "text": [
      "Downloading split 'validation' to '/Users/ethankuch/fiftyone/open-images-v6/validation' if necessary\n",
      "Necessary images already downloaded\n",
      "Existing download of split 'validation' is sufficient\n",
      "Loading 'open-images-v6' split 'validation'\n",
      " 100% |█████████████████| 900/900 [7.3s elapsed, 0s remaining, 134.7 samples/s]      \n",
      "Dataset 'df_val' created\n"
     ]
    }
   ],
   "source": [
    "dataset_val = foz.load_zoo_dataset(\n",
    "    \"open-images-v6\", \n",
    "    split=\"validation\", \n",
    "    label_types=[\"detections\", \"classifications\"], \n",
    "    classes = avaliable_fo,\n",
    "    max_samples=900,\n",
    "    seed=69,\n",
    "    shuffle=True,\n",
    "    dataset_name=\"df_val\",\n",
    ")"
   ]
  },
  {
   "cell_type": "code",
   "execution_count": 13,
   "metadata": {},
   "outputs": [],
   "source": [
    "export_dir = \"/Users/ethankuch/my_project/yolov5\"\n",
    "label_field = \"detections\"  # for example\n",
    "\n",
    "# The Dataset or DatasetView to export\n",
    "dataset_or_view = dataset\n",
    "\n",
    "# Export the dataset\n",
    "dataset_or_view.export( \n",
    "    export_dir=export_dir,\n",
    "    dataset_type=fo.types.YOLOv5Dataset,\n",
    "    classes=avaliable_fo,\n",
    "    label_field=label_field,\n",
    "    split=\"train\"\n",
    ")\n",
    "clear_output()\n",
    "#Undo above clear_output to see the list of Ignored detection labels used for training"
   ]
  },
  {
   "cell_type": "code",
   "execution_count": 14,
   "metadata": {},
   "outputs": [],
   "source": [
    "export_dir = \"/Users/ethankuch/my_project/yolov5\"\n",
    "label_field = \"detections\"  # for example\n",
    "\n",
    "# The Dataset or DatasetView to export\n",
    "dataset_or_view = dataset_val\n",
    "\n",
    "# Export the dataset\n",
    "dataset_or_view.export( \n",
    "    export_dir=export_dir,\n",
    "    dataset_type=fo.types.YOLOv5Dataset,\n",
    "    classes=avaliable_fo,\n",
    "    label_field=label_field,\n",
    "    split=\"val\"\n",
    ")\n",
    "clear_output()\n",
    "#Undo above clear_output to see the list of Ignored detection labels used for validation"
   ]
  },
  {
   "cell_type": "code",
   "execution_count": 15,
   "metadata": {},
   "outputs": [
    {
     "name": "stdout",
     "output_type": "stream",
     "text": [
      "/Users/ethankuch/my_project/yolov5\n"
     ]
    }
   ],
   "source": [
    "%cd yolov5"
   ]
  },
  {
   "cell_type": "code",
   "execution_count": 16,
   "metadata": {},
   "outputs": [],
   "source": [
    "# If prompted to update github, uncomment the below line to update\n",
    "# !git pull https://github.com/ultralytics/yolov5"
   ]
  },
  {
   "cell_type": "code",
   "execution_count": 17,
   "metadata": {},
   "outputs": [
    {
     "name": "stdout",
     "output_type": "stream",
     "text": [
      "Retry attempt failed:\n",
      "Traceback (most recent call last):\n",
      "  File \"/Users/ethankuch/opt/anaconda3/envs/visvenv/lib/python3.7/site-packages/urllib3/connection.py\", line 175, in _new_conn\n",
      "    (self._dns_host, self.port), self.timeout, **extra_kw\n",
      "  File \"/Users/ethankuch/opt/anaconda3/envs/visvenv/lib/python3.7/site-packages/urllib3/util/connection.py\", line 72, in create_connection\n",
      "    for res in socket.getaddrinfo(host, port, family, socket.SOCK_STREAM):\n",
      "  File \"/Users/ethankuch/opt/anaconda3/envs/visvenv/lib/python3.7/socket.py\", line 752, in getaddrinfo\n",
      "    for res in _socket.getaddrinfo(host, port, family, type, proto, flags):\n",
      "socket.gaierror: [Errno 8] nodename nor servname provided, or not known\n",
      "\n",
      "During handling of the above exception, another exception occurred:\n",
      "\n",
      "Traceback (most recent call last):\n",
      "  File \"/Users/ethankuch/opt/anaconda3/envs/visvenv/lib/python3.7/site-packages/urllib3/connectionpool.py\", line 710, in urlopen\n",
      "    chunked=chunked,\n",
      "  File \"/Users/ethankuch/opt/anaconda3/envs/visvenv/lib/python3.7/site-packages/urllib3/connectionpool.py\", line 386, in _make_request\n",
      "    self._validate_conn(conn)\n",
      "  File \"/Users/ethankuch/opt/anaconda3/envs/visvenv/lib/python3.7/site-packages/urllib3/connectionpool.py\", line 1040, in _validate_conn\n",
      "    conn.connect()\n",
      "  File \"/Users/ethankuch/opt/anaconda3/envs/visvenv/lib/python3.7/site-packages/urllib3/connection.py\", line 358, in connect\n",
      "    self.sock = conn = self._new_conn()\n",
      "  File \"/Users/ethankuch/opt/anaconda3/envs/visvenv/lib/python3.7/site-packages/urllib3/connection.py\", line 187, in _new_conn\n",
      "    self, \"Failed to establish a new connection: %s\" % e\n",
      "urllib3.exceptions.NewConnectionError: <urllib3.connection.HTTPSConnection object at 0x7fe1ad2f82d0>: Failed to establish a new connection: [Errno 8] nodename nor servname provided, or not known\n",
      "\n",
      "During handling of the above exception, another exception occurred:\n",
      "\n",
      "Traceback (most recent call last):\n",
      "  File \"/Users/ethankuch/opt/anaconda3/envs/visvenv/lib/python3.7/site-packages/requests/adapters.py\", line 450, in send\n",
      "    timeout=timeout\n",
      "  File \"/Users/ethankuch/opt/anaconda3/envs/visvenv/lib/python3.7/site-packages/urllib3/connectionpool.py\", line 786, in urlopen\n",
      "    method, url, error=e, _pool=self, _stacktrace=sys.exc_info()[2]\n",
      "  File \"/Users/ethankuch/opt/anaconda3/envs/visvenv/lib/python3.7/site-packages/urllib3/util/retry.py\", line 592, in increment\n",
      "    raise MaxRetryError(_pool, url, error or ResponseError(cause))\n",
      "urllib3.exceptions.MaxRetryError: HTTPSConnectionPool(host='api.wandb.ai', port=443): Max retries exceeded with url: /graphql (Caused by NewConnectionError('<urllib3.connection.HTTPSConnection object at 0x7fe1ad2f82d0>: Failed to establish a new connection: [Errno 8] nodename nor servname provided, or not known'))\n",
      "\n",
      "During handling of the above exception, another exception occurred:\n",
      "\n",
      "Traceback (most recent call last):\n",
      "  File \"/Users/ethankuch/opt/anaconda3/envs/visvenv/lib/python3.7/site-packages/wandb/sdk/lib/retry.py\", line 102, in __call__\n",
      "    result = self._call_fn(*args, **kwargs)\n",
      "  File \"/Users/ethankuch/opt/anaconda3/envs/visvenv/lib/python3.7/site-packages/wandb/sdk/internal/internal_api.py\", line 140, in execute\n",
      "    return self.client.execute(*args, **kwargs)\n",
      "  File \"/Users/ethankuch/opt/anaconda3/envs/visvenv/lib/python3.7/site-packages/wandb/vendor/gql-0.2.0/wandb_gql/client.py\", line 52, in execute\n",
      "    result = self._get_result(document, *args, **kwargs)\n",
      "  File \"/Users/ethankuch/opt/anaconda3/envs/visvenv/lib/python3.7/site-packages/wandb/vendor/gql-0.2.0/wandb_gql/client.py\", line 60, in _get_result\n",
      "    return self.transport.execute(document, *args, **kwargs)\n",
      "  File \"/Users/ethankuch/opt/anaconda3/envs/visvenv/lib/python3.7/site-packages/wandb/vendor/gql-0.2.0/wandb_gql/transport/requests.py\", line 38, in execute\n",
      "    request = requests.post(self.url, **post_args)\n",
      "  File \"/Users/ethankuch/opt/anaconda3/envs/visvenv/lib/python3.7/site-packages/requests/api.py\", line 117, in post\n",
      "    return request('post', url, data=data, json=json, **kwargs)\n",
      "  File \"/Users/ethankuch/opt/anaconda3/envs/visvenv/lib/python3.7/site-packages/requests/api.py\", line 61, in request\n",
      "    return session.request(method=method, url=url, **kwargs)\n",
      "  File \"/Users/ethankuch/opt/anaconda3/envs/visvenv/lib/python3.7/site-packages/requests/sessions.py\", line 529, in request\n",
      "    resp = self.send(prep, **send_kwargs)\n",
      "  File \"/Users/ethankuch/opt/anaconda3/envs/visvenv/lib/python3.7/site-packages/requests/sessions.py\", line 645, in send\n",
      "    r = adapter.send(request, **kwargs)\n",
      "  File \"/Users/ethankuch/opt/anaconda3/envs/visvenv/lib/python3.7/site-packages/requests/adapters.py\", line 519, in send\n",
      "    raise ConnectionError(e, request=request)\n",
      "requests.exceptions.ConnectionError: HTTPSConnectionPool(host='api.wandb.ai', port=443): Max retries exceeded with url: /graphql (Caused by NewConnectionError('<urllib3.connection.HTTPSConnection object at 0x7fe1ad2f82d0>: Failed to establish a new connection: [Errno 8] nodename nor servname provided, or not known'))\n",
      "\u001b[34m\u001b[1mwandb\u001b[0m: Network error (ConnectionError), entering retry loop.\n",
      "\u001b[34m\u001b[1mwandb\u001b[0m: W&B API key is configured (use `wandb login --relogin` to force relogin)\n",
      "\u001b[34m\u001b[1mtrain: \u001b[0mweights=/Users/ethankuch/my_project/yolov5/yolov5s.pt, cfg=, data=/Users/ethankuch/my_project/yolov5/models/dataset.yaml, hyp=data/hyps/hyp.scratch-low.yaml, epochs=100, batch_size=60, imgsz=320, rect=False, resume=False, nosave=False, noval=False, noautoanchor=False, noplots=False, evolve=None, bucket=, cache=ram, image_weights=False, device=, multi_scale=False, single_cls=False, optimizer=SGD, sync_bn=False, workers=8, project=foodscan, name=exp, exist_ok=False, quad=False, cos_lr=False, label_smoothing=0.0, patience=100, freeze=[0], save_period=1, local_rank=-1, entity=None, upload_dataset=True, bbox_interval=-1, artifact_alias=latest\n",
      "\u001b[34m\u001b[1mgithub: \u001b[0mskipping check (offline), for updates see https://github.com/ultralytics/yolov5\n",
      "YOLOv5 🚀 v6.1-164-g177da7f torch 1.11.0 CPU\n",
      "\n",
      "\u001b[34m\u001b[1mhyperparameters: \u001b[0mlr0=0.01, lrf=0.01, momentum=0.937, weight_decay=0.0005, warmup_epochs=3.0, warmup_momentum=0.8, warmup_bias_lr=0.1, box=0.05, cls=0.5, cls_pw=1.0, obj=1.0, obj_pw=1.0, iou_t=0.2, anchor_t=4.0, fl_gamma=0.0, hsv_h=0.015, hsv_s=0.7, hsv_v=0.4, degrees=0.0, translate=0.1, scale=0.5, shear=0.0, perspective=0.0, flipud=0.0, fliplr=0.5, mosaic=1.0, mixup=0.0, copy_paste=0.0\n",
      "\u001b[34m\u001b[1mTensorBoard: \u001b[0mStart with 'tensorboard --logdir foodscan', view at http://localhost:6006/\n"
     ]
    }
   ],
   "source": [
    "# !python train.py --img 640 --batch 50 --epochs 10 --data /Users/ethankuch/my_project/yolov5/models/dataset.yaml --weights /Users/ethankuch/my_project/yolov5/yolov5m6.pt\n",
    "!python train.py --img 320 --batch 60 --epochs 100 --project 'foodscan' --save-period 1 --upload_dataset --data /Users/ethankuch/my_project/yolov5/models/dataset.yaml --weights /Users/ethankuch/my_project/yolov5/yolov5s.pt --cache"
   ]
  },
  {
   "cell_type": "code",
   "execution_count": 18,
   "metadata": {},
   "outputs": [
    {
     "name": "stdout",
     "output_type": "stream",
     "text": [
      "Retry attempt failed:\n",
      "Traceback (most recent call last):\n",
      "  File \"/Users/ethankuch/opt/anaconda3/envs/visvenv/lib/python3.7/site-packages/urllib3/connection.py\", line 175, in _new_conn\n",
      "    (self._dns_host, self.port), self.timeout, **extra_kw\n",
      "  File \"/Users/ethankuch/opt/anaconda3/envs/visvenv/lib/python3.7/site-packages/urllib3/util/connection.py\", line 72, in create_connection\n",
      "    for res in socket.getaddrinfo(host, port, family, socket.SOCK_STREAM):\n",
      "  File \"/Users/ethankuch/opt/anaconda3/envs/visvenv/lib/python3.7/socket.py\", line 752, in getaddrinfo\n",
      "    for res in _socket.getaddrinfo(host, port, family, type, proto, flags):\n",
      "socket.gaierror: [Errno 8] nodename nor servname provided, or not known\n",
      "\n",
      "During handling of the above exception, another exception occurred:\n",
      "\n",
      "Traceback (most recent call last):\n",
      "  File \"/Users/ethankuch/opt/anaconda3/envs/visvenv/lib/python3.7/site-packages/urllib3/connectionpool.py\", line 710, in urlopen\n",
      "    chunked=chunked,\n",
      "  File \"/Users/ethankuch/opt/anaconda3/envs/visvenv/lib/python3.7/site-packages/urllib3/connectionpool.py\", line 386, in _make_request\n",
      "    self._validate_conn(conn)\n",
      "  File \"/Users/ethankuch/opt/anaconda3/envs/visvenv/lib/python3.7/site-packages/urllib3/connectionpool.py\", line 1040, in _validate_conn\n",
      "    conn.connect()\n",
      "  File \"/Users/ethankuch/opt/anaconda3/envs/visvenv/lib/python3.7/site-packages/urllib3/connection.py\", line 358, in connect\n",
      "    self.sock = conn = self._new_conn()\n",
      "  File \"/Users/ethankuch/opt/anaconda3/envs/visvenv/lib/python3.7/site-packages/urllib3/connection.py\", line 187, in _new_conn\n",
      "    self, \"Failed to establish a new connection: %s\" % e\n",
      "urllib3.exceptions.NewConnectionError: <urllib3.connection.HTTPSConnection object at 0x7f9675a7e650>: Failed to establish a new connection: [Errno 8] nodename nor servname provided, or not known\n",
      "\n",
      "During handling of the above exception, another exception occurred:\n",
      "\n",
      "Traceback (most recent call last):\n",
      "  File \"/Users/ethankuch/opt/anaconda3/envs/visvenv/lib/python3.7/site-packages/requests/adapters.py\", line 450, in send\n",
      "    timeout=timeout\n",
      "  File \"/Users/ethankuch/opt/anaconda3/envs/visvenv/lib/python3.7/site-packages/urllib3/connectionpool.py\", line 786, in urlopen\n",
      "    method, url, error=e, _pool=self, _stacktrace=sys.exc_info()[2]\n",
      "  File \"/Users/ethankuch/opt/anaconda3/envs/visvenv/lib/python3.7/site-packages/urllib3/util/retry.py\", line 592, in increment\n",
      "    raise MaxRetryError(_pool, url, error or ResponseError(cause))\n",
      "urllib3.exceptions.MaxRetryError: HTTPSConnectionPool(host='api.wandb.ai', port=443): Max retries exceeded with url: /graphql (Caused by NewConnectionError('<urllib3.connection.HTTPSConnection object at 0x7f9675a7e650>: Failed to establish a new connection: [Errno 8] nodename nor servname provided, or not known'))\n",
      "\n",
      "During handling of the above exception, another exception occurred:\n",
      "\n",
      "Traceback (most recent call last):\n",
      "  File \"/Users/ethankuch/opt/anaconda3/envs/visvenv/lib/python3.7/site-packages/wandb/sdk/lib/retry.py\", line 102, in __call__\n",
      "    result = self._call_fn(*args, **kwargs)\n",
      "  File \"/Users/ethankuch/opt/anaconda3/envs/visvenv/lib/python3.7/site-packages/wandb/sdk/internal/internal_api.py\", line 140, in execute\n",
      "    return self.client.execute(*args, **kwargs)\n",
      "  File \"/Users/ethankuch/opt/anaconda3/envs/visvenv/lib/python3.7/site-packages/wandb/vendor/gql-0.2.0/wandb_gql/client.py\", line 52, in execute\n",
      "    result = self._get_result(document, *args, **kwargs)\n",
      "  File \"/Users/ethankuch/opt/anaconda3/envs/visvenv/lib/python3.7/site-packages/wandb/vendor/gql-0.2.0/wandb_gql/client.py\", line 60, in _get_result\n",
      "    return self.transport.execute(document, *args, **kwargs)\n",
      "  File \"/Users/ethankuch/opt/anaconda3/envs/visvenv/lib/python3.7/site-packages/wandb/vendor/gql-0.2.0/wandb_gql/transport/requests.py\", line 38, in execute\n",
      "    request = requests.post(self.url, **post_args)\n",
      "  File \"/Users/ethankuch/opt/anaconda3/envs/visvenv/lib/python3.7/site-packages/requests/api.py\", line 117, in post\n",
      "    return request('post', url, data=data, json=json, **kwargs)\n",
      "  File \"/Users/ethankuch/opt/anaconda3/envs/visvenv/lib/python3.7/site-packages/requests/api.py\", line 61, in request\n",
      "    return session.request(method=method, url=url, **kwargs)\n",
      "  File \"/Users/ethankuch/opt/anaconda3/envs/visvenv/lib/python3.7/site-packages/requests/sessions.py\", line 529, in request\n",
      "    resp = self.send(prep, **send_kwargs)\n",
      "  File \"/Users/ethankuch/opt/anaconda3/envs/visvenv/lib/python3.7/site-packages/requests/sessions.py\", line 645, in send\n",
      "    r = adapter.send(request, **kwargs)\n",
      "  File \"/Users/ethankuch/opt/anaconda3/envs/visvenv/lib/python3.7/site-packages/requests/adapters.py\", line 519, in send\n",
      "    raise ConnectionError(e, request=request)\n",
      "requests.exceptions.ConnectionError: HTTPSConnectionPool(host='api.wandb.ai', port=443): Max retries exceeded with url: /graphql (Caused by NewConnectionError('<urllib3.connection.HTTPSConnection object at 0x7f9675a7e650>: Failed to establish a new connection: [Errno 8] nodename nor servname provided, or not known'))\n"
     ]
    },
    {
     "name": "stderr",
     "output_type": "stream",
     "text": [
      "\u001b[34m\u001b[1mwandb\u001b[0m: Network error (ConnectionError), entering retry loop.\n",
      "\u001b[34m\u001b[1mwandb\u001b[0m: W&B API key is configured (use `wandb login --relogin` to force relogin)\n"
     ]
    },
    {
     "data": {
      "text/plain": [
       "True"
      ]
     },
     "execution_count": 18,
     "metadata": {},
     "output_type": "execute_result"
    }
   ],
   "source": [
    "wandb.login()"
   ]
  },
  {
   "cell_type": "markdown",
   "metadata": {},
   "source": [
    "Detection of Images/Video"
   ]
  },
  {
   "cell_type": "code",
   "execution_count": 24,
   "metadata": {},
   "outputs": [
    {
     "name": "stdout",
     "output_type": "stream",
     "text": [
      "\u001b[34m\u001b[1mdetect: \u001b[0mweights=['yolov5x.pt'], source=data/foodimage, data=/Users/ethankuch/my_project/yolov5/models/dataset.yaml, imgsz=[320, 320], conf_thres=0.4, iou_thres=0.45, max_det=1000, device=, view_img=False, save_txt=False, save_conf=False, save_crop=False, nosave=False, classes=None, agnostic_nms=False, augment=False, visualize=False, update=False, project=runs/detect, name=exp, exist_ok=False, line_thickness=3, hide_labels=False, hide_conf=False, half=False, dnn=False\n",
      "YOLOv5 🚀 v6.1-164-g177da7f torch 1.11.0 CPU\n",
      "\n",
      "Fusing layers... \n",
      "YOLOv5x summary: 444 layers, 86705005 parameters, 0 gradients\n",
      "image 1/6 /Users/ethankuch/my_project/yolov5/data/foodimage/fs1.jpeg: 224x320 8 bottles, 1 banana, 4 apples, 3 oranges, 2 broccolis, 1 refrigerator, Done. (1.253s)\n",
      "image 2/6 /Users/ethankuch/my_project/yolov5/data/foodimage/fs2.jpeg: 320x224 1 banana, 4 apples, 10 oranges, 3 broccolis, 2 carrots, Done. (1.244s)\n",
      "image 3/6 /Users/ethankuch/my_project/yolov5/data/foodimage/fs3.jpeg: 320x224 2 bottles, 1 banana, 2 apples, 3 oranges, Done. (1.219s)\n",
      "image 4/6 /Users/ethankuch/my_project/yolov5/data/foodimage/fs4.jpeg: 256x320 1 bowl, 2 bananas, 5 apples, 3 oranges, 1 refrigerator, Done. (1.410s)\n",
      "image 5/6 /Users/ethankuch/my_project/yolov5/data/foodimage/fs5.jpeg: 320x224 1 banana, 2 apples, 4 oranges, 1 refrigerator, Done. (1.218s)\n",
      "image 6/6 /Users/ethankuch/my_project/yolov5/data/foodimage/fs6.jpeg: 320x256 1 bottle, 2 cups, 3 apples, 2 oranges, 3 broccolis, Done. (1.412s)\n",
      "Speed: 0.3ms pre-process, 1292.7ms inference, 0.7ms NMS per image at shape (1, 3, 320, 320)\n",
      "Results saved to \u001b[1mruns/detect/exp6\u001b[0m\n"
     ]
    }
   ],
   "source": [
    "!python detect.py --img 320 --data /Users/ethankuch/my_project/yolov5/models/dataset.yaml --weights yolov5x.pt  --conf 0.4 --source data/foodimage"
   ]
  },
  {
   "cell_type": "code",
   "execution_count": 20,
   "metadata": {},
   "outputs": [],
   "source": [
    "exp=max(glob.glob(os.path.join('/Users/ethankuch/my_project/yolov5/runs/detect/', '*/')), key=os.path.getmtime)\n",
    "exp = os.path.normpath(exp)"
   ]
  },
  {
   "cell_type": "code",
   "execution_count": 21,
   "metadata": {},
   "outputs": [
    {
     "data": {
      "text/plain": [
       "<Figure size 2880x2880 with 0 Axes>"
      ]
     },
     "metadata": {},
     "output_type": "display_data"
    }
   ],
   "source": [
    "#Update export count\n",
    "detect_path = exp\n",
    "images = []\n",
    "for img_path in glob.glob(detect_path + '/*.jpeg'):\n",
    "    images.append(mpimg.imread(img_path))\n",
    "\n",
    "plt.figure(figsize=(40,40))\n",
    "columns = 4\n",
    "for i, image in enumerate(images):\n",
    "    plt.subplot((int(len(images) / columns + 1)), columns, i + 1)\n",
    "    plt.tick_params(left = False, right = False , labelleft = False, labelbottom = False, bottom = False)\n",
    "    plt.imshow(image)\n"
   ]
  },
  {
   "cell_type": "code",
   "execution_count": null,
   "metadata": {},
   "outputs": [],
   "source": [
    "# !python prepare_csv.py --label_path /Users/ethankuch/my_project/yolov5/runs/detect --test_path /Users/ethankuch/my_project/yolov5/data/foodimage"
   ]
  },
  {
   "cell_type": "code",
   "execution_count": null,
   "metadata": {},
   "outputs": [],
   "source": [
    "# Detect video, change source and data to your directory\n",
    "!python detect.py --data /Users/ethankuch/my_project/yolov5/models/dataset.yaml --source data/foodvideo/foodvid2.mp4 --weights yolov5s6.pt --img 1280 --conf 0.4 \n",
    "# display.Video(filename='runs/detect/exp3/foodvid.mp4', width=600)"
   ]
  },
  {
   "cell_type": "code",
   "execution_count": 25,
   "metadata": {},
   "outputs": [
    {
     "name": "stdout",
     "output_type": "stream",
     "text": [
      "\u001b[34m\u001b[1mval: \u001b[0mdata=/Users/ethankuch/my_project/yolov5/models/dataset.yaml, weights=['yolov5s.pt'], batch_size=32, imgsz=320, conf_thres=0.001, iou_thres=0.6, task=val, device=, workers=8, single_cls=False, augment=False, verbose=False, save_txt=False, save_hybrid=False, save_conf=False, save_json=False, project=runs/val, name=exp, exist_ok=False, half=False, dnn=False\n",
      "YOLOv5 🚀 v6.1-164-g177da7f torch 1.11.0 CPU\n",
      "\n",
      "Fusing layers... \n",
      "YOLOv5s summary: 213 layers, 7225885 parameters, 0 gradients\n",
      "Traceback (most recent call last):\n",
      "  File \"val.py\", line 396, in <module>\n",
      "    main(opt)\n",
      "  File \"val.py\", line 369, in main\n",
      "    run(**vars(opt))\n",
      "  File \"/Users/ethankuch/opt/anaconda3/envs/visvenv/lib/python3.7/site-packages/torch/autograd/grad_mode.py\", line 27, in decorate_context\n",
      "    return func(*args, **kwargs)\n",
      "  File \"val.py\", line 167, in run\n",
      "    assert ncm == nc, f'{weights[0]} ({ncm} classes) trained on different --data than what you passed ({nc} ' \\\n",
      "AssertionError: yolov5s.pt (80 classes) trained on different --data than what you passed (601 classes). Pass correct combination of --weights and --data that are trained together.\n"
     ]
    }
   ],
   "source": [
    "# !python val.py --data /Users/ethankuch/my_project/yolov5/models/dataset.yaml --weights yolov5s.pt --img 320"
   ]
  }
 ],
 "metadata": {
  "interpreter": {
   "hash": "172d802a89da68f924deed61ea9ba3ab265f05d4baaea9b52daa45797bdeed9a"
  },
  "kernelspec": {
   "display_name": "Python 3.7.12 ('visvenv')",
   "language": "python",
   "name": "python3"
  },
  "language_info": {
   "codemirror_mode": {
    "name": "ipython",
    "version": 3
   },
   "file_extension": ".py",
   "mimetype": "text/x-python",
   "name": "python",
   "nbconvert_exporter": "python",
   "pygments_lexer": "ipython3",
   "version": "3.7.12"
  },
  "orig_nbformat": 4
 },
 "nbformat": 4,
 "nbformat_minor": 2
}
