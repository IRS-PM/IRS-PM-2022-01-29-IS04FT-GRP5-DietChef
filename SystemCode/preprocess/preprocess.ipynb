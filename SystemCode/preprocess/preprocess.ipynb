{
 "cells": [
  {
   "cell_type": "code",
   "execution_count": 1,
   "metadata": {},
   "outputs": [],
   "source": [
    "# !pip install ipynb # used to import another ipynb\n",
    "# !pip install python-dotenv # used to load .env file"
   ]
  },
  {
   "cell_type": "code",
   "execution_count": 2,
   "metadata": {},
   "outputs": [
    {
     "data": {
      "text/plain": [
       "True"
      ]
     },
     "execution_count": 2,
     "metadata": {},
     "output_type": "execute_result"
    }
   ],
   "source": [
    "# Load env should run it very first\n",
    "from dotenv import load_dotenv\n",
    "load_dotenv()\n"
   ]
  },
  {
   "cell_type": "code",
   "execution_count": 11,
   "metadata": {},
   "outputs": [
    {
     "data": {
      "text/plain": [
       "<module 'csvhelper' from '/Users/roychiu/Desktop/ISS Master/GroupProject1/preprocess/csvhelper.py'>"
      ]
     },
     "execution_count": 11,
     "metadata": {},
     "output_type": "execute_result"
    }
   ],
   "source": [
    "# from preprocess.readcsv import read\n",
    "# from preprocess import esClient\n",
    "import eshelper\n",
    "import csvhelper\n",
    "\n",
    "import importlib\n",
    "importlib.reload(eshelper)\n",
    "importlib.reload(csvhelper)\n",
    "\n",
    "\n",
    "# from ipynb.fs.full.preprocess.readcsv import read\n"
   ]
  },
  {
   "cell_type": "code",
   "execution_count": 4,
   "metadata": {},
   "outputs": [],
   "source": [
    "# read recipe data\n",
    "header = [\n",
    "    \"query\",\n",
    "    \"recipe_id\",\n",
    "    \"publisher\",\n",
    "    'source_url', \n",
    "    'image_url', \n",
    "    'social_rank', \n",
    "    'publisher_url', \n",
    "    'title', \n",
    "    'sum_cal', \n",
    "    'sum_fat', \n",
    "    'sum_carb', \n",
    "    'sum_protein'\n",
    "]\n",
    "recipeData = csvhelper.read(\"../data/recipe.csv\", header)\n"
   ]
  },
  {
   "cell_type": "code",
   "execution_count": 6,
   "metadata": {},
   "outputs": [
    {
     "name": "stdout",
     "output_type": "stream",
     "text": [
      "pushing 3166 documents\n",
      "pushed to elasticsearch\n"
     ]
    }
   ],
   "source": [
    "#push recipe to elasticsearch\n",
    "err = eshelper.bulkIndex(recipeData,\"recipes\",\"{recipe_id}\")\n",
    "if err != None:\n",
    "    print(err)\n",
    "else:\n",
    "    print(\"pushed to elasticsearch\")"
   ]
  },
  {
   "cell_type": "code",
   "execution_count": 7,
   "metadata": {},
   "outputs": [],
   "source": [
    "# read ingredient data\n",
    "header = [\n",
    "    \"query\",\n",
    "    \"recipe_id\",\n",
    "    \"quantity\",\n",
    "    \"unit\",\n",
    "    \"weight_g\",\n",
    "    \"ingredient\",\n",
    "    \"nutrition_key\",\n",
    "    \"nutrition_value\"\n",
    "    \"cal\",\n",
    "    'fat', \n",
    "    'cah', \n",
    "    'protein', \n",
    "    'original_ingredient'\n",
    "]\n",
    "ingredientData = csvhelper.read(\"../data/ingredient.csv\", header)"
   ]
  },
  {
   "cell_type": "code",
   "execution_count": 8,
   "metadata": {},
   "outputs": [],
   "source": [
    "# create dictionary by recipe id\n",
    "recipeDict = {}\n",
    "for recipe in recipeData:\n",
    "    recipe_id = recipe[\"recipe_id\"]\n",
    "    recipeDict[recipe_id] = recipe.copy()\n",
    "    recipeDict[recipe_id][\"ingredients\"] = []\n",
    "    recipeDict[recipe_id][\"ingredients_weight_g\"] = []\n",
    "    recipeDict[recipe_id][\"total_ingredient_weight_g\"] = 0\n",
    "    recipeDict[recipe_id][\"min_ingredient_weight_g\"] = float(\"inf\")\n",
    "\n",
    "# push ingredient to recipe\n",
    "for ingredient in ingredientData:\n",
    "    recipe_id = ingredient[\"recipe_id\"]\n",
    "    recipeDict[recipe_id][\"ingredients\"].append(ingredient)\n",
    "    recipeDict[recipe_id][\"total_ingredient_weight_g\"] += ingredient[\"weight_g\"]\n",
    "    if ingredient[\"weight_g\"] < recipeDict[recipe_id][\"min_ingredient_weight_g\"]:\n",
    "        # get the min weight and normalise it later\n",
    "        recipeDict[recipe_id][\"min_ingredient_weight_g\"] = ingredient[\"weight_g\"]\n",
    "\n",
    "# normalise ingredient\n",
    "for recipe_id in recipeDict:\n",
    "    for ingredient in recipeDict[recipe_id][\"ingredients\"]:\n",
    "        times = int(ingredient['weight_g']/recipeDict[recipe_id][\"min_ingredient_weight_g\"])\n",
    "        for i in range(times):\n",
    "            recipeDict[recipe_id][\"ingredients_weight_g\"].append(ingredient[\"ingredient\"])"
   ]
  },
  {
   "cell_type": "code",
   "execution_count": 9,
   "metadata": {},
   "outputs": [
    {
     "name": "stdout",
     "output_type": "stream",
     "text": [
      "pushing 2256 documents\n",
      "pushed to elasticsearch\n"
     ]
    }
   ],
   "source": [
    "#push recipe detail to elasticsearch\n",
    "recipes = []\n",
    "for key in recipeDict:\n",
    "    r = recipeDict[key].copy()\n",
    "    del r[\"ingredients\"]\n",
    "    recipes.append(r)\n",
    "err = eshelper.bulkIndex(recipes,\"recipe_detail\",\"{recipe_id}\")\n",
    "if err != None:\n",
    "    print(err)\n",
    "else:\n",
    "    print(\"pushed to elasticsearch\")"
   ]
  },
  {
   "cell_type": "code",
   "execution_count": 12,
   "metadata": {},
   "outputs": [
    {
     "name": "stdout",
     "output_type": "stream",
     "text": [
      "Got 10 Hits:\n"
     ]
    }
   ],
   "source": [
    "#search documents\n",
    "eshelper.searchByIngredient(\"recipe_detail*\", \"cheese\", 10)"
   ]
  }
 ],
 "metadata": {
  "interpreter": {
   "hash": "0ae1cb62954322ad839fd1fbe8e5ac37e8094a7fa494490d25755b965da49e0f"
  },
  "kernelspec": {
   "display_name": "Python 3.7.11 ('py3.7')",
   "language": "python",
   "name": "python3"
  },
  "language_info": {
   "codemirror_mode": {
    "name": "ipython",
    "version": 3
   },
   "file_extension": ".py",
   "mimetype": "text/x-python",
   "name": "python",
   "nbconvert_exporter": "python",
   "pygments_lexer": "ipython3",
   "version": "3.7.11"
  },
  "orig_nbformat": 4
 },
 "nbformat": 4,
 "nbformat_minor": 2
}
