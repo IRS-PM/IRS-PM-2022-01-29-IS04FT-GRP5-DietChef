{
 "cells": [
  {
   "cell_type": "code",
   "execution_count": null,
   "metadata": {},
   "outputs": [],
   "source": [
    "#Elasticsearch library sample"
   ]
  },
  {
   "cell_type": "code",
   "execution_count": 4,
   "metadata": {},
   "outputs": [],
   "source": [
    "from datetime import datetime\n",
    "from eshelper import bulkIndex,newES"
   ]
  },
  {
   "cell_type": "code",
   "execution_count": 5,
   "metadata": {},
   "outputs": [],
   "source": [
    "es = newES()"
   ]
  },
  {
   "cell_type": "code",
   "execution_count": 3,
   "metadata": {},
   "outputs": [],
   "source": [
    "#test1\n",
    "def test1():\n",
    "    docs = [{\n",
    "        'author': 'kimchy',\n",
    "        'text': ['cheese cheese cheese cheese grab'],\n",
    "        'timestamp': datetime.now(),\n",
    "    },\n",
    "    {\n",
    "        'author': 'kimchy',\n",
    "        'text': ['grab cheese cheese cheese'],\n",
    "        'timestamp': datetime.now(),\n",
    "    },\n",
    "    {\n",
    "        'author': 'kimchy',\n",
    "        'text': ['cheese cheese cheese cheese haha'],\n",
    "        'timestamp': datetime.now(),\n",
    "    },\n",
    "    {\n",
    "        'author': 'kimchy',\n",
    "        'text': ['cheese cheese cheese cheese cheese'],\n",
    "        'timestamp': datetime.now(),\n",
    "    },\n",
    "    {\n",
    "        'author': 'kimchy',\n",
    "        'text': ['cheese cheese cheese cheese cheese cheese cheese cheese cheese cheese cheese cheese cheese cheese cheese cheese cheese cheese cheese cheese cheese cheese cheese cheese cheese cheese cheese cheese  cheese cheese cheese cheese cheese cheese cheese cheese cheese cheese cheese cheese cheese cheese cheese cheese cheese cheese cheese cheese cheese cheese cheese cheese cheese cheese cheese cheese cheese cheese cheese cheese cheese cheese cheese cheese cheese cheese cheese cheese cheese cheese cheese cheese cheese cheese cheese cheesebye'],\n",
    "        'timestamp': datetime.now(),\n",
    "    },\n",
    "    {\n",
    "        'author': 'kimchy',\n",
    "        'text': ['cheese cheese cheese cheese ok'],\n",
    "        'timestamp': datetime.now(),\n",
    "    }]\n",
    "\n",
    "    err = bulkIndex(docs,\"test2\",\"{author}-a-{author}\")\n",
    "    if err != None:\n",
    "        print(err)\n"
   ]
  },
  {
   "cell_type": "code",
   "execution_count": 1,
   "metadata": {},
   "outputs": [],
   "source": [
    "#sample\n",
    "def test2():\n",
    "    docs = [{\n",
    "        'author': 'kimchy1',\n",
    "        'text': ['cheese cheese cheese cheese grab grab'],\n",
    "        'test_arr': [1,2,3,4,5,6,7,8,9],\n",
    "        'timestamp': datetime.now(),\n",
    "    },\n",
    "    {\n",
    "        'author': 'kimch2y',\n",
    "        'text': ['grab cheese cheese cheese'],\n",
    "        'test_arr': [2,2,3,4,5,6,7,8,9],\n",
    "        'timestamp': datetime.now(),\n",
    "    },\n",
    "    {\n",
    "        'author': 'kimc3hy',\n",
    "        'text': ['cheese cheese cheese cheese haha'],\n",
    "        'test_arr': [3,2,3,4,5,6,7,8,9],\n",
    "        'timestamp': datetime.now(),\n",
    "    },\n",
    "    {\n",
    "        'author': 'kim4chy',\n",
    "        'text': ['cheese cheese cheese cheese cheese'],\n",
    "        'test_arr': [1,2,3,4,10,6,7,8,9],\n",
    "        'timestamp': datetime.now(),\n",
    "    },\n",
    "    {\n",
    "        'author': 'kimc5hy',\n",
    "        'text': ['cheese cheese cheese cheese cheese cheese cheese cheese cheese cheese cheese cheese cheese cheese cheese cheese cheese cheese cheese cheese cheese cheese cheese cheese cheese cheese cheese cheese  cheese cheese cheese cheese cheese cheese cheese cheese cheese cheese cheese cheese cheese cheese cheese cheese cheese cheese cheese cheese cheese cheese cheese cheese cheese cheese cheese cheese cheese cheese cheese cheese cheese cheese cheese cheese cheese cheese cheese cheese cheese cheese cheese cheese cheese cheese cheese cheesebye'],\n",
    "        'timestamp': datetime.now(),\n",
    "        'test_arr': [1,2,3,4,10,6,7,8,30],\n",
    "    },\n",
    "    {\n",
    "        'author': 'kimc6hy',\n",
    "        'text': ['cheese cheese cheese cheese ok'],\n",
    "        'test_arr': [1,2,3,4,10,6,7,8,20],\n",
    "        'timestamp': datetime.now(),\n",
    "    }]\n",
    "    actions = []\n",
    "    for d in docs:\n",
    "        action = {\n",
    "            '_op_type': 'index',\n",
    "            # \"_type\": \"_doc\",\n",
    "            # \"_id\": 1,\n",
    "            \"_source\": d,\n",
    "            \"_index\": 'test-index',\n",
    "        }\n",
    "        actions.append(action)\n",
    "    resp = bulkIndex(docs,\"test-index\",\"{author}-a-{author}\")\n",
    "\n",
    "    resp = es.get(index=\"test-index\", id=1)\n",
    "    print(resp['_source'])\n",
    "\n",
    "    es.indices.refresh(index=\"test-index\")\n",
    "\n",
    "    resp = es.search(index=\"test-index\", query={\"match_all\": {}})\n",
    "    print(\"Got %d Hits:\" % resp['hits']['total']['value'])\n",
    "    for hit in resp['hits']['hits']:\n",
    "        print(\"%(timestamp)s %(author)s: %(text)s\" % hit[\"_source\"])"
   ]
  },
  {
   "cell_type": "code",
   "execution_count": 6,
   "metadata": {},
   "outputs": [
    {
     "name": "stdout",
     "output_type": "stream",
     "text": [
      "pushing 6 documents\n"
     ]
    },
    {
     "ename": "NotFoundError",
     "evalue": "NotFoundError(404, \"{'_index': 'test-index', '_id': '1', 'found': False}\")",
     "output_type": "error",
     "traceback": [
      "\u001b[0;31m---------------------------------------------------------------------------\u001b[0m",
      "\u001b[0;31mNotFoundError\u001b[0m                             Traceback (most recent call last)",
      "\u001b[0;32m/var/folders/lb/czvphg4j7md8_0znt29m83qc0000gn/T/ipykernel_45237/4059474704.py\u001b[0m in \u001b[0;36m<module>\u001b[0;34m\u001b[0m\n\u001b[1;32m      1\u001b[0m \u001b[0;31m# test1()\u001b[0m\u001b[0;34m\u001b[0m\u001b[0;34m\u001b[0m\u001b[0;34m\u001b[0m\u001b[0m\n\u001b[0;32m----> 2\u001b[0;31m \u001b[0mtest2\u001b[0m\u001b[0;34m(\u001b[0m\u001b[0;34m)\u001b[0m\u001b[0;34m\u001b[0m\u001b[0;34m\u001b[0m\u001b[0m\n\u001b[0m",
      "\u001b[0;32m/var/folders/lb/czvphg4j7md8_0znt29m83qc0000gn/T/ipykernel_45237/760169057.py\u001b[0m in \u001b[0;36mtest2\u001b[0;34m()\u001b[0m\n\u001b[1;32m     49\u001b[0m     \u001b[0mresp\u001b[0m \u001b[0;34m=\u001b[0m \u001b[0mbulkIndex\u001b[0m\u001b[0;34m(\u001b[0m\u001b[0mdocs\u001b[0m\u001b[0;34m,\u001b[0m\u001b[0;34m\"test-index\"\u001b[0m\u001b[0;34m,\u001b[0m\u001b[0;34m\"{author}-a-{author}\"\u001b[0m\u001b[0;34m)\u001b[0m\u001b[0;34m\u001b[0m\u001b[0;34m\u001b[0m\u001b[0m\n\u001b[1;32m     50\u001b[0m \u001b[0;34m\u001b[0m\u001b[0m\n\u001b[0;32m---> 51\u001b[0;31m     \u001b[0mresp\u001b[0m \u001b[0;34m=\u001b[0m \u001b[0mes\u001b[0m\u001b[0;34m.\u001b[0m\u001b[0mget\u001b[0m\u001b[0;34m(\u001b[0m\u001b[0mindex\u001b[0m\u001b[0;34m=\u001b[0m\u001b[0;34m\"test-index\"\u001b[0m\u001b[0;34m,\u001b[0m \u001b[0mid\u001b[0m\u001b[0;34m=\u001b[0m\u001b[0;36m1\u001b[0m\u001b[0;34m)\u001b[0m\u001b[0;34m\u001b[0m\u001b[0;34m\u001b[0m\u001b[0m\n\u001b[0m\u001b[1;32m     52\u001b[0m     \u001b[0mprint\u001b[0m\u001b[0;34m(\u001b[0m\u001b[0mresp\u001b[0m\u001b[0;34m[\u001b[0m\u001b[0;34m'_source'\u001b[0m\u001b[0;34m]\u001b[0m\u001b[0;34m)\u001b[0m\u001b[0;34m\u001b[0m\u001b[0;34m\u001b[0m\u001b[0m\n\u001b[1;32m     53\u001b[0m \u001b[0;34m\u001b[0m\u001b[0m\n",
      "\u001b[0;32m~/opt/anaconda3/envs/py3.7/lib/python3.7/site-packages/elasticsearch/_sync/client/utils.py\u001b[0m in \u001b[0;36mwrapped\u001b[0;34m(*args, **kwargs)\u001b[0m\n\u001b[1;32m    402\u001b[0m                         \u001b[0;32mpass\u001b[0m\u001b[0;34m\u001b[0m\u001b[0;34m\u001b[0m\u001b[0m\n\u001b[1;32m    403\u001b[0m \u001b[0;34m\u001b[0m\u001b[0m\n\u001b[0;32m--> 404\u001b[0;31m             \u001b[0;32mreturn\u001b[0m \u001b[0mapi\u001b[0m\u001b[0;34m(\u001b[0m\u001b[0;34m*\u001b[0m\u001b[0margs\u001b[0m\u001b[0;34m,\u001b[0m \u001b[0;34m**\u001b[0m\u001b[0mkwargs\u001b[0m\u001b[0;34m)\u001b[0m\u001b[0;34m\u001b[0m\u001b[0;34m\u001b[0m\u001b[0m\n\u001b[0m\u001b[1;32m    405\u001b[0m \u001b[0;34m\u001b[0m\u001b[0m\n\u001b[1;32m    406\u001b[0m         \u001b[0;32mreturn\u001b[0m \u001b[0mwrapped\u001b[0m  \u001b[0;31m# type: ignore[return-value]\u001b[0m\u001b[0;34m\u001b[0m\u001b[0;34m\u001b[0m\u001b[0m\n",
      "\u001b[0;32m~/opt/anaconda3/envs/py3.7/lib/python3.7/site-packages/elasticsearch/_sync/client/__init__.py\u001b[0m in \u001b[0;36mget\u001b[0;34m(self, index, id, error_trace, filter_path, human, preference, pretty, realtime, refresh, routing, source, source_excludes, source_includes, stored_fields, version, version_type)\u001b[0m\n\u001b[1;32m   1912\u001b[0m         \u001b[0m__headers\u001b[0m \u001b[0;34m=\u001b[0m \u001b[0;34m{\u001b[0m\u001b[0;34m\"accept\"\u001b[0m\u001b[0;34m:\u001b[0m \u001b[0;34m\"application/json\"\u001b[0m\u001b[0;34m}\u001b[0m\u001b[0;34m\u001b[0m\u001b[0;34m\u001b[0m\u001b[0m\n\u001b[1;32m   1913\u001b[0m         return self.perform_request(  # type: ignore[return-value]\n\u001b[0;32m-> 1914\u001b[0;31m             \u001b[0;34m\"GET\"\u001b[0m\u001b[0;34m,\u001b[0m \u001b[0m__path\u001b[0m\u001b[0;34m,\u001b[0m \u001b[0mparams\u001b[0m\u001b[0;34m=\u001b[0m\u001b[0m__query\u001b[0m\u001b[0;34m,\u001b[0m \u001b[0mheaders\u001b[0m\u001b[0;34m=\u001b[0m\u001b[0m__headers\u001b[0m\u001b[0;34m\u001b[0m\u001b[0;34m\u001b[0m\u001b[0m\n\u001b[0m\u001b[1;32m   1915\u001b[0m         )\n\u001b[1;32m   1916\u001b[0m \u001b[0;34m\u001b[0m\u001b[0m\n",
      "\u001b[0;32m~/opt/anaconda3/envs/py3.7/lib/python3.7/site-packages/elasticsearch/_sync/client/_base.py\u001b[0m in \u001b[0;36mperform_request\u001b[0;34m(self, method, path, params, headers, body)\u001b[0m\n\u001b[1;32m    320\u001b[0m \u001b[0;34m\u001b[0m\u001b[0m\n\u001b[1;32m    321\u001b[0m             raise HTTP_EXCEPTIONS.get(meta.status, ApiError)(\n\u001b[0;32m--> 322\u001b[0;31m                 \u001b[0mmessage\u001b[0m\u001b[0;34m=\u001b[0m\u001b[0mmessage\u001b[0m\u001b[0;34m,\u001b[0m \u001b[0mmeta\u001b[0m\u001b[0;34m=\u001b[0m\u001b[0mmeta\u001b[0m\u001b[0;34m,\u001b[0m \u001b[0mbody\u001b[0m\u001b[0;34m=\u001b[0m\u001b[0mresp_body\u001b[0m\u001b[0;34m\u001b[0m\u001b[0;34m\u001b[0m\u001b[0m\n\u001b[0m\u001b[1;32m    323\u001b[0m             )\n\u001b[1;32m    324\u001b[0m \u001b[0;34m\u001b[0m\u001b[0m\n",
      "\u001b[0;31mNotFoundError\u001b[0m: NotFoundError(404, \"{'_index': 'test-index', '_id': '1', 'found': False}\")"
     ]
    }
   ],
   "source": [
    "# test1()\n",
    "test2()\n"
   ]
  }
 ],
 "metadata": {
  "interpreter": {
   "hash": "0ae1cb62954322ad839fd1fbe8e5ac37e8094a7fa494490d25755b965da49e0f"
  },
  "kernelspec": {
   "display_name": "Python 3.7.11 ('py3.7')",
   "language": "python",
   "name": "python3"
  },
  "language_info": {
   "codemirror_mode": {
    "name": "ipython",
    "version": 3
   },
   "file_extension": ".py",
   "mimetype": "text/x-python",
   "name": "python",
   "nbconvert_exporter": "python",
   "pygments_lexer": "ipython3",
   "version": "3.7.11"
  },
  "orig_nbformat": 4
 },
 "nbformat": 4,
 "nbformat_minor": 2
}
